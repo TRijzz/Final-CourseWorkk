{
  "nbformat": 4,
  "nbformat_minor": 0,
  "metadata": {
    "colab": {
      "provenance": []
    },
    "kernelspec": {
      "name": "python3",
      "display_name": "Python 3"
    },
    "language_info": {
      "name": "python"
    }
  },
  "cells": [
    {
      "cell_type": "markdown",
      "source": [
        "**3.1 Classification Task**"
      ],
      "metadata": {
        "id": "YFFKT8xd6VUf"
      }
    },
    {
      "cell_type": "code",
      "source": [
        "from google.colab import drive\n",
        "drive.mount('/content/drive')"
      ],
      "metadata": {
        "colab": {
          "base_uri": "https://localhost:8080/"
        },
        "id": "TrsieVWOjdWX",
        "outputId": "0b45e21b-50a7-442e-a3b1-470159f2a5eb"
      },
      "execution_count": 40,
      "outputs": [
        {
          "output_type": "stream",
          "name": "stdout",
          "text": [
            "Drive already mounted at /content/drive; to attempt to forcibly remount, call drive.mount(\"/content/drive\", force_remount=True).\n"
          ]
        }
      ]
    },
    {
      "cell_type": "code",
      "execution_count": 41,
      "metadata": {
        "id": "Z8gd1Xzg6P3m"
      },
      "outputs": [],
      "source": [
        "# 3.1 Importing libraries\n",
        "import pandas as pd\n",
        "import numpy as np\n",
        "import matplotlib.pyplot as plt\n",
        "import seaborn as sns"
      ]
    },
    {
      "cell_type": "code",
      "source": [
        "# 3.1 Model building and evaluation\n",
        "from sklearn.model_selection import train_test_split, GridSearchCV\n",
        "from sklearn.preprocessing import StandardScaler\n",
        "from sklearn.linear_model import LogisticRegression\n",
        "from sklearn.metrics import accuracy_score, classification_report, confusion_matrix\n",
        "from sklearn.preprocessing import LabelEncoder, StandardScaler\n",
        "from sklearn.ensemble import RandomForestClassifier\n",
        "from sklearn.feature_selection import RFE"
      ],
      "metadata": {
        "id": "vaFd84Al6ub-"
      },
      "execution_count": 42,
      "outputs": []
    },
    {
      "cell_type": "code",
      "source": [
        "# Load Dataset\n",
        "df = pd.read_csv('/content/drive/MyDrive/3rd SEM/AI/Final_CourseWork/MobilePrice(Classification).csv')\n",
        "\n",
        "# Exploratory Data Analysis\n",
        "print(\"Dataset Overview:\")\n",
        "print(df.info())\n",
        "print(df.describe())"
      ],
      "metadata": {
        "colab": {
          "base_uri": "https://localhost:8080/"
        },
        "id": "s8R4HEsW6ze9",
        "outputId": "a30a1e7e-bb34-44cd-9765-3cc8224ff4f0"
      },
      "execution_count": 43,
      "outputs": [
        {
          "output_type": "stream",
          "name": "stdout",
          "text": [
            "Dataset Overview:\n",
            "<class 'pandas.core.frame.DataFrame'>\n",
            "RangeIndex: 2000 entries, 0 to 1999\n",
            "Data columns (total 21 columns):\n",
            " #   Column                Non-Null Count  Dtype  \n",
            "---  ------                --------------  -----  \n",
            " 0   battery_power         2000 non-null   int64  \n",
            " 1   bluetooth             2000 non-null   object \n",
            " 2   clock_speed           2000 non-null   float64\n",
            " 3   dual_sim              2000 non-null   object \n",
            " 4   front_camera_mpixels  2000 non-null   int64  \n",
            " 5   has_4g                2000 non-null   object \n",
            " 6   int_memory            2000 non-null   int64  \n",
            " 7   m_dep                 2000 non-null   float64\n",
            " 8   mobile_wt             2000 non-null   int64  \n",
            " 9   n_cores               2000 non-null   int64  \n",
            " 10  pc                    2000 non-null   int64  \n",
            " 11  px_height             2000 non-null   int64  \n",
            " 12  px_width              2000 non-null   int64  \n",
            " 13  ram                   2000 non-null   int64  \n",
            " 14  sc_h                  2000 non-null   int64  \n",
            " 15  sc_w                  2000 non-null   int64  \n",
            " 16  talk_time             2000 non-null   int64  \n",
            " 17  has_3g                2000 non-null   object \n",
            " 18  touch_screen          2000 non-null   object \n",
            " 19  wifi                  2000 non-null   object \n",
            " 20  price_range           2000 non-null   object \n",
            "dtypes: float64(2), int64(12), object(7)\n",
            "memory usage: 328.3+ KB\n",
            "None\n",
            "       battery_power  clock_speed  front_camera_mpixels   int_memory  \\\n",
            "count    2000.000000  2000.000000           2000.000000  2000.000000   \n",
            "mean     1238.518500     1.522250              4.309500    32.046500   \n",
            "std       439.418206     0.816004              4.341444    18.145715   \n",
            "min       501.000000     0.500000              0.000000     2.000000   \n",
            "25%       851.750000     0.700000              1.000000    16.000000   \n",
            "50%      1226.000000     1.500000              3.000000    32.000000   \n",
            "75%      1615.250000     2.200000              7.000000    48.000000   \n",
            "max      1998.000000     3.000000             19.000000    64.000000   \n",
            "\n",
            "             m_dep    mobile_wt      n_cores           pc    px_height  \\\n",
            "count  2000.000000  2000.000000  2000.000000  2000.000000  2000.000000   \n",
            "mean      0.501750   140.249000     4.520500     9.916500   645.108000   \n",
            "std       0.288416    35.399655     2.287837     6.064315   443.780811   \n",
            "min       0.100000    80.000000     1.000000     0.000000     0.000000   \n",
            "25%       0.200000   109.000000     3.000000     5.000000   282.750000   \n",
            "50%       0.500000   141.000000     4.000000    10.000000   564.000000   \n",
            "75%       0.800000   170.000000     7.000000    15.000000   947.250000   \n",
            "max       1.000000   200.000000     8.000000    20.000000  1960.000000   \n",
            "\n",
            "          px_width          ram         sc_h         sc_w    talk_time  \n",
            "count  2000.000000  2000.000000  2000.000000  2000.000000  2000.000000  \n",
            "mean   1251.515500  2124.213000    12.306500     5.767000    11.011000  \n",
            "std     432.199447  1084.732044     4.213245     4.356398     5.463955  \n",
            "min     500.000000   256.000000     5.000000     0.000000     2.000000  \n",
            "25%     874.750000  1207.500000     9.000000     2.000000     6.000000  \n",
            "50%    1247.000000  2146.500000    12.000000     5.000000    11.000000  \n",
            "75%    1633.000000  3064.500000    16.000000     9.000000    16.000000  \n",
            "max    1998.000000  3998.000000    19.000000    18.000000    20.000000  \n"
          ]
        }
      ]
    },
    {
      "cell_type": "code",
      "source": [
        "# Check Missing Values\n",
        "print(\"\\nMissing Values:\")\n",
        "print(df.isnull().sum())"
      ],
      "metadata": {
        "colab": {
          "base_uri": "https://localhost:8080/"
        },
        "id": "_BkXbz0u7VMw",
        "outputId": "52af4aff-32dc-4f52-f33c-533511aa5d28"
      },
      "execution_count": 44,
      "outputs": [
        {
          "output_type": "stream",
          "name": "stdout",
          "text": [
            "\n",
            "Missing Values:\n",
            "battery_power           0\n",
            "bluetooth               0\n",
            "clock_speed             0\n",
            "dual_sim                0\n",
            "front_camera_mpixels    0\n",
            "has_4g                  0\n",
            "int_memory              0\n",
            "m_dep                   0\n",
            "mobile_wt               0\n",
            "n_cores                 0\n",
            "pc                      0\n",
            "px_height               0\n",
            "px_width                0\n",
            "ram                     0\n",
            "sc_h                    0\n",
            "sc_w                    0\n",
            "talk_time               0\n",
            "has_3g                  0\n",
            "touch_screen            0\n",
            "wifi                    0\n",
            "price_range             0\n",
            "dtype: int64\n"
          ]
        }
      ]
    },
    {
      "cell_type": "code",
      "source": [
        "# Visualizing Data\n",
        "df.hist(figsize=(12, 10))\n",
        "plt.show()"
      ],
      "metadata": {
        "colab": {
          "base_uri": "https://localhost:8080/",
          "height": 745
        },
        "id": "BWYv_2L27a2K",
        "outputId": "c3ddad9f-0b63-43a9-d302-fef19e0267c3"
      },
      "execution_count": 45,
      "outputs": [
        {
          "output_type": "display_data",
          "data": {
            "text/plain": [
              "<Figure size 1200x1000 with 16 Axes>"
            ],
            "image/png": "[encoded data removed]"
          },
          "metadata": {}
        }
      ]
    },
    {
      "cell_type": "code",
      "source": [
        "# Feature and Target Selection\n",
        "X = df.drop('price_range', axis=1)  # Assuming 'price_range' is the target variable\n",
        "y = df['price_range']\n",
        "print(\"Features (X):\\n\", X.head())  # Print first 5 rows of features\n",
        "print(\"\\nTarget (y):\\n\", y.head())  # Print first 5 rows of target"
      ],
      "metadata": {
        "colab": {
          "base_uri": "https://localhost:8080/"
        },
        "id": "zla-AY7O7d6W",
        "outputId": "057233f2-f2d4-444c-99b4-4d73d19e0c7e"
      },
      "execution_count": 46,
      "outputs": [
        {
          "output_type": "stream",
          "name": "stdout",
          "text": [
            "Features (X):\n",
            "    battery_power bluetooth  clock_speed dual_sim  front_camera_mpixels has_4g  \\\n",
            "0            842        No          2.2       No                     1     No   \n",
            "1           1021       Yes          0.5      Yes                     0    Yes   \n",
            "2            563       Yes          0.5      Yes                     2    Yes   \n",
            "3            615       Yes          2.5       No                     0     No   \n",
            "4           1821       Yes          1.2       No                    13    Yes   \n",
            "\n",
            "   int_memory  m_dep  mobile_wt  n_cores  pc  px_height  px_width   ram  sc_h  \\\n",
            "0           7    0.6        188        2   2         20       756  2549     9   \n",
            "1          53    0.7        136        3   6        905      1988  2631    17   \n",
            "2          41    0.9        145        5   6       1263      1716  2603    11   \n",
            "3          10    0.8        131        6   9       1216      1786  2769    16   \n",
            "4          44    0.6        141        2  14       1208      1212  1411     8   \n",
            "\n",
            "   sc_w  talk_time has_3g touch_screen wifi  \n",
            "0     7         19     No           No  Yes  \n",
            "1     3          7    Yes          Yes   No  \n",
            "2     2          9    Yes          Yes   No  \n",
            "3     8         11    Yes           No   No  \n",
            "4     2         15    Yes          Yes   No  \n",
            "\n",
            "Target (y):\n",
            " 0    Medium Cost\n",
            "1      High Cost\n",
            "2      High Cost\n",
            "3      High Cost\n",
            "4    Medium Cost\n",
            "Name: price_range, dtype: object\n"
          ]
        }
      ]
    },
    {
      "cell_type": "code",
      "source": [
        "# Splitting Data into Train and Test Sets\n",
        "X_train, X_test, y_train, y_test = train_test_split(X, y, test_size=0.2, random_state=42)\n",
        "print(X_train.dtypes)\n",
        "\n",
        "le = LabelEncoder()\n",
        "X_train = pd.get_dummies(X_train, drop_first=True)\n",
        "X_test = pd.get_dummies(X_test, drop_first=True)\n"
      ],
      "metadata": {
        "colab": {
          "base_uri": "https://localhost:8080/"
        },
        "id": "WJafuKYF7hXl",
        "outputId": "7e87fae0-a85d-4743-c05f-35e64545a132"
      },
      "execution_count": 47,
      "outputs": [
        {
          "output_type": "stream",
          "name": "stdout",
          "text": [
            "battery_power             int64\n",
            "bluetooth                object\n",
            "clock_speed             float64\n",
            "dual_sim                 object\n",
            "front_camera_mpixels      int64\n",
            "has_4g                   object\n",
            "int_memory                int64\n",
            "m_dep                   float64\n",
            "mobile_wt                 int64\n",
            "n_cores                   int64\n",
            "pc                        int64\n",
            "px_height                 int64\n",
            "px_width                  int64\n",
            "ram                       int64\n",
            "sc_h                      int64\n",
            "sc_w                      int64\n",
            "talk_time                 int64\n",
            "has_3g                   object\n",
            "touch_screen             object\n",
            "wifi                     object\n",
            "dtype: object\n"
          ]
        }
      ]
    },
    {
      "cell_type": "code",
      "source": [
        "# Standardizing the Data\n",
        "scaler = StandardScaler()\n",
        "X_train_scaled = scaler.fit_transform(X_train)\n",
        "X_test_scaled = scaler.transform(X_test)\n",
        "\n",
        "print(\"Standardized Training Data (X_train_scaled):\\n\", X_train_scaled)\n",
        "print(\"\\nStandardized Testing Data (X_test_scaled):\\n\", X_test_scaled)"
      ],
      "metadata": {
        "colab": {
          "base_uri": "https://localhost:8080/"
        },
        "id": "dK0wFZY87-Zb",
        "outputId": "9d135b42-3241-4826-ed3c-0c93c5219bff"
      },
      "execution_count": 48,
      "outputs": [
        {
          "output_type": "stream",
          "name": "stdout",
          "text": [
            "Standardized Training Data (X_train_scaled):\n",
            " [[ 1.54835969 -1.23622976  0.62011122 ...  0.55713671  0.9900495\n",
            "   1.00250313]\n",
            " [-1.3795348   0.83711156 -0.99356109 ...  0.55713671  0.9900495\n",
            "   1.00250313]\n",
            " [-0.01091435 -0.74838475 -0.53251186 ...  0.55713671 -1.0100505\n",
            "   1.00250313]\n",
            " ...\n",
            " [ 1.33500924 -1.23622976 -0.99356109 ...  0.55713671 -1.0100505\n",
            "   1.00250313]\n",
            " [ 1.55743843 -0.74838475 -0.30198725 ... -1.79489161  0.9900495\n",
            "   1.00250313]\n",
            " [-1.37499543 -1.11426851 -0.76303648 ...  0.55713671 -1.0100505\n",
            "  -0.99750312]]\n",
            "\n",
            "Standardized Testing Data (X_test_scaled):\n",
            " [[ 0.91965677  1.20299532 -0.30198725 ...  0.55713671  0.9900495\n",
            "  -0.99750312]\n",
            " [-0.13347738 -1.23622976  0.62011122 ...  0.55713671 -1.0100505\n",
            "  -0.99750312]\n",
            " [ 1.65957429  1.69084034  1.08116045 ...  0.55713671  0.9900495\n",
            "  -0.99750312]\n",
            " ...\n",
            " [-0.446694    0.34926654 -0.07146263 ...  0.55713671  0.9900495\n",
            "   1.00250313]\n",
            " [-1.16391466  1.44691783 -0.99356109 ...  0.55713671  0.9900495\n",
            "   1.00250313]\n",
            " [-0.12666832  0.4712278  -0.99356109 ...  0.55713671  0.9900495\n",
            "   1.00250313]]\n"
          ]
        }
      ]
    },
    {
      "cell_type": "markdown",
      "source": [
        "Scratch Model"
      ],
      "metadata": {
        "id": "GAi8msbl-GwN"
      }
    },
    {
      "cell_type": "code",
      "source": [
        "# Feature and Target Selection\n",
        "X = df.drop('price_range', axis=1)  # Assuming 'price_range' is the target variable\n",
        "y = df['price_range']\n",
        "print(\"Features (X):\\n\", X.head())  # Print first 5 rows of features\n",
        "print(\"\\nTarget (y):\\n\", y.head())  # Print first 5 rows of target\n",
        "\n",
        "# Splitting Data into Train and Test Sets\n",
        "X_train, X_test, y_train, y_test = train_test_split(X, y, test_size=0.2, random_state=42)\n",
        "print(X_train.dtypes)\n",
        "\n",
        "# Convert categorical features in X_train and X_test to numerical using one-hot encoding\n",
        "X_train = pd.get_dummies(X_train, drop_first=True)\n",
        "X_test = pd.get_dummies(X_test, drop_first=True)\n",
        "\n",
        "# Create a LabelEncoder object\n",
        "label_encoder = LabelEncoder()\n",
        "\n",
        "# Fit the encoder to your target variable and transform it\n",
        "y_train = label_encoder.fit_transform(y_train)\n",
        "y_test = label_encoder.transform(y_test)\n",
        "\n",
        "# Standardizing the Data\n",
        "scaler = StandardScaler()\n",
        "X_train_scaled = scaler.fit_transform(X_train)\n",
        "X_test_scaled = scaler.transform(X_test)\n",
        "\n",
        "print(\"Standardized Training Data (X_train_scaled):\\n\", X_train_scaled)\n",
        "print(\"\\nStandardized Testing Data (X_test_scaled):\\n\", X_test_scaled)"
      ],
      "metadata": {
        "colab": {
          "base_uri": "https://localhost:8080/"
        },
        "id": "Q5IFrROIj5kt",
        "outputId": "88a94b81-6d77-4624-9fca-71704f724424"
      },
      "execution_count": 49,
      "outputs": [
        {
          "output_type": "stream",
          "name": "stdout",
          "text": [
            "Features (X):\n",
            "    battery_power bluetooth  clock_speed dual_sim  front_camera_mpixels has_4g  \\\n",
            "0            842        No          2.2       No                     1     No   \n",
            "1           1021       Yes          0.5      Yes                     0    Yes   \n",
            "2            563       Yes          0.5      Yes                     2    Yes   \n",
            "3            615       Yes          2.5       No                     0     No   \n",
            "4           1821       Yes          1.2       No                    13    Yes   \n",
            "\n",
            "   int_memory  m_dep  mobile_wt  n_cores  pc  px_height  px_width   ram  sc_h  \\\n",
            "0           7    0.6        188        2   2         20       756  2549     9   \n",
            "1          53    0.7        136        3   6        905      1988  2631    17   \n",
            "2          41    0.9        145        5   6       1263      1716  2603    11   \n",
            "3          10    0.8        131        6   9       1216      1786  2769    16   \n",
            "4          44    0.6        141        2  14       1208      1212  1411     8   \n",
            "\n",
            "   sc_w  talk_time has_3g touch_screen wifi  \n",
            "0     7         19     No           No  Yes  \n",
            "1     3          7    Yes          Yes   No  \n",
            "2     2          9    Yes          Yes   No  \n",
            "3     8         11    Yes           No   No  \n",
            "4     2         15    Yes          Yes   No  \n",
            "\n",
            "Target (y):\n",
            " 0    Medium Cost\n",
            "1      High Cost\n",
            "2      High Cost\n",
            "3      High Cost\n",
            "4    Medium Cost\n",
            "Name: price_range, dtype: object\n",
            "battery_power             int64\n",
            "bluetooth                object\n",
            "clock_speed             float64\n",
            "dual_sim                 object\n",
            "front_camera_mpixels      int64\n",
            "has_4g                   object\n",
            "int_memory                int64\n",
            "m_dep                   float64\n",
            "mobile_wt                 int64\n",
            "n_cores                   int64\n",
            "pc                        int64\n",
            "px_height                 int64\n",
            "px_width                  int64\n",
            "ram                       int64\n",
            "sc_h                      int64\n",
            "sc_w                      int64\n",
            "talk_time                 int64\n",
            "has_3g                   object\n",
            "touch_screen             object\n",
            "wifi                     object\n",
            "dtype: object\n",
            "Standardized Training Data (X_train_scaled):\n",
            " [[ 1.54835969 -1.23622976  0.62011122 ...  0.55713671  0.9900495\n",
            "   1.00250313]\n",
            " [-1.3795348   0.83711156 -0.99356109 ...  0.55713671  0.9900495\n",
            "   1.00250313]\n",
            " [-0.01091435 -0.74838475 -0.53251186 ...  0.55713671 -1.0100505\n",
            "   1.00250313]\n",
            " ...\n",
            " [ 1.33500924 -1.23622976 -0.99356109 ...  0.55713671 -1.0100505\n",
            "   1.00250313]\n",
            " [ 1.55743843 -0.74838475 -0.30198725 ... -1.79489161  0.9900495\n",
            "   1.00250313]\n",
            " [-1.37499543 -1.11426851 -0.76303648 ...  0.55713671 -1.0100505\n",
            "  -0.99750312]]\n",
            "\n",
            "Standardized Testing Data (X_test_scaled):\n",
            " [[ 0.91965677  1.20299532 -0.30198725 ...  0.55713671  0.9900495\n",
            "  -0.99750312]\n",
            " [-0.13347738 -1.23622976  0.62011122 ...  0.55713671 -1.0100505\n",
            "  -0.99750312]\n",
            " [ 1.65957429  1.69084034  1.08116045 ...  0.55713671  0.9900495\n",
            "  -0.99750312]\n",
            " ...\n",
            " [-0.446694    0.34926654 -0.07146263 ...  0.55713671  0.9900495\n",
            "   1.00250313]\n",
            " [-1.16391466  1.44691783 -0.99356109 ...  0.55713671  0.9900495\n",
            "   1.00250313]\n",
            " [-0.12666832  0.4712278  -0.99356109 ...  0.55713671  0.9900495\n",
            "   1.00250313]]\n"
          ]
        }
      ]
    },
    {
      "cell_type": "code",
      "source": [
        "# Logistic Regression Model from Scratch\n",
        "class LogisticRegressionScratch:\n",
        "    def __init__(self):\n",
        "        self.weights = None\n",
        "        self.bias = None\n",
        "\n",
        "    def sigmoid(self, z):\n",
        "        return 1 / (1 + np.exp(-z))\n",
        "\n",
        "    def fit(self, X, y, learning_rate=0.01, num_iterations=1000):\n",
        "        n_samples, n_features = X.shape\n",
        "        self.weights = np.zeros(n_features)\n",
        "        self.bias = 0\n",
        "\n",
        "        for _ in range(num_iterations):\n",
        "            linear_model = np.dot(X, self.weights) + self.bias\n",
        "            predictions = self.sigmoid(linear_model)\n",
        "\n",
        "            # Gradient Descent Updates\n",
        "            dw = (1 / n_samples) * np.dot(X.T, (predictions - y))\n",
        "            db = (1 / n_samples) * np.sum(predictions - y)\n",
        "\n",
        "            self.weights -= learning_rate * dw\n",
        "            self.bias -= learning_rate * db\n",
        "\n",
        "    def predict(self, X):\n",
        "        linear_model = np.dot(X, self.weights) + self.bias\n",
        "        y_pred_prob = self.sigmoid(linear_model)\n",
        "        return np.where(y_pred_prob >= 0.5, 1, 0)\n",
        "\n",
        "# Training Logistic Regression from Scratch.\n",
        "log_reg_scratch = LogisticRegressionScratch()\n",
        "log_reg_scratch.fit(X_train_scaled, y_train, learning_rate=0.01, num_iterations=1000) # Now y_train is numeric\n",
        "y_pred_scratch = log_reg_scratch.predict(X_test_scaled)\n",
        "\n",
        "print(\"\\nLogistic Regression from Scratch:\")\n",
        "print(classification_report(y_test, y_pred_scratch))"
      ],
      "metadata": {
        "id": "IWAYH46597S6",
        "colab": {
          "base_uri": "https://localhost:8080/"
        },
        "outputId": "bf6c8493-8e6e-4585-9933-91b91f767130"
      },
      "execution_count": 50,
      "outputs": [
        {
          "output_type": "stream",
          "name": "stdout",
          "text": [
            "\n",
            "Logistic Regression from Scratch:\n",
            "              precision    recall  f1-score   support\n",
            "\n",
            "           0       0.00      0.00      0.00        92\n",
            "           1       0.23      0.85      0.36       105\n",
            "           2       0.00      0.00      0.00        91\n",
            "           3       0.00      0.00      0.00       112\n",
            "\n",
            "    accuracy                           0.22       400\n",
            "   macro avg       0.06      0.21      0.09       400\n",
            "weighted avg       0.06      0.22      0.10       400\n",
            "\n"
          ]
        },
        {
          "output_type": "stream",
          "name": "stderr",
          "text": [
            "/usr/local/lib/python3.11/dist-packages/sklearn/metrics/_classification.py:1565: UndefinedMetricWarning: Precision is ill-defined and being set to 0.0 in labels with no predicted samples. Use `zero_division` parameter to control this behavior.\n",
            "  _warn_prf(average, modifier, f\"{metric.capitalize()} is\", len(result))\n",
            "/usr/local/lib/python3.11/dist-packages/sklearn/metrics/_classification.py:1565: UndefinedMetricWarning: Precision is ill-defined and being set to 0.0 in labels with no predicted samples. Use `zero_division` parameter to control this behavior.\n",
            "  _warn_prf(average, modifier, f\"{metric.capitalize()} is\", len(result))\n",
            "/usr/local/lib/python3.11/dist-packages/sklearn/metrics/_classification.py:1565: UndefinedMetricWarning: Precision is ill-defined and being set to 0.0 in labels with no predicted samples. Use `zero_division` parameter to control this behavior.\n",
            "  _warn_prf(average, modifier, f\"{metric.capitalize()} is\", len(result))\n"
          ]
        }
      ]
    },
    {
      "cell_type": "code",
      "source": [
        "# Create a LabelEncoder object\n",
        "label_encoder = LabelEncoder()\n",
        "\n",
        "# Fit the encoder to your target variable and transform it\n",
        "y_encoded = label_encoder.fit_transform(y)\n",
        "\n",
        "# Now use y_encoded instead of y for training and testing\n",
        "X_train, X_test, y_train, y_test = train_test_split(X, y_encoded, test_size=0.2, random_state=42)"
      ],
      "metadata": {
        "id": "5qzh1yhLA2Bw"
      },
      "execution_count": 51,
      "outputs": []
    },
    {
      "cell_type": "code",
      "source": [
        "# Check class distribution\n",
        "print(\"Class distribution in y_train:\", np.bincount(y_train))\n",
        "print(\"Class distribution in y_test:\", np.bincount(y_test))"
      ],
      "metadata": {
        "colab": {
          "base_uri": "https://localhost:8080/"
        },
        "id": "qC7LUnAk-O5d",
        "outputId": "aca70e60-edf1-4d09-eae5-0ab8e7276395"
      },
      "execution_count": 52,
      "outputs": [
        {
          "output_type": "stream",
          "name": "stdout",
          "text": [
            "Class distribution in y_train: [408 395 409 388]\n",
            "Class distribution in y_test: [ 92 105  91 112]\n"
          ]
        }
      ]
    },
    {
      "cell_type": "markdown",
      "source": [
        "Model 1"
      ],
      "metadata": {
        "id": "2vcHUXXukl9I"
      }
    },
    {
      "cell_type": "code",
      "source": [
        "# Building Models for Classification\n",
        "log_reg = LogisticRegression(max_iter=1000, class_weight='balanced')\n",
        "log_reg.fit(X_train_scaled, y_train)\n",
        "y_pred = log_reg.predict(X_test_scaled)\n",
        "print(\"Scikit-Learn Logistic Regression:\")\n",
        "print(classification_report(y_test, y_pred))\n"
      ],
      "metadata": {
        "colab": {
          "base_uri": "https://localhost:8080/"
        },
        "id": "1bbpKn_pMxn_",
        "outputId": "c2cea361-68ba-41c8-b039-df87f5df69e6"
      },
      "execution_count": 53,
      "outputs": [
        {
          "output_type": "stream",
          "name": "stdout",
          "text": [
            "Scikit-Learn Logistic Regression:\n",
            "              precision    recall  f1-score   support\n",
            "\n",
            "           0       0.99      0.95      0.97        92\n",
            "           1       1.00      0.97      0.99       105\n",
            "           2       0.95      1.00      0.97        91\n",
            "           3       0.97      0.99      0.98       112\n",
            "\n",
            "    accuracy                           0.98       400\n",
            "   macro avg       0.98      0.98      0.98       400\n",
            "weighted avg       0.98      0.98      0.98       400\n",
            "\n"
          ]
        }
      ]
    },
    {
      "cell_type": "markdown",
      "source": [
        "Model 2"
      ],
      "metadata": {
        "id": "iXhfIbINkdCl"
      }
    },
    {
      "cell_type": "code",
      "source": [
        "# Initialize the Random Forest Classifier\n",
        "rf_classifier = RandomForestClassifier(random_state=42)\n",
        "\n",
        "# Train the model\n",
        "rf_classifier.fit(X_train_scaled, y_train)\n",
        "\n",
        "# Make predictions on the test set\n",
        "y_pred_rf = rf_classifier.predict(X_test_scaled)\n",
        "\n",
        "# Evaluate the model\n",
        "print(\"\\nRandom Forest Classifier:\")\n",
        "print(classification_report(y_test, y_pred_rf))\n"
      ],
      "metadata": {
        "colab": {
          "base_uri": "https://localhost:8080/"
        },
        "id": "6fBMs2ypkiB8",
        "outputId": "d5be2697-a588-4675-f537-eb502e295874"
      },
      "execution_count": 54,
      "outputs": [
        {
          "output_type": "stream",
          "name": "stdout",
          "text": [
            "\n",
            "Random Forest Classifier:\n",
            "              precision    recall  f1-score   support\n",
            "\n",
            "           0       0.80      0.87      0.83        92\n",
            "           1       0.93      0.95      0.94       105\n",
            "           2       0.88      0.84      0.86        91\n",
            "           3       0.93      0.88      0.91       112\n",
            "\n",
            "    accuracy                           0.89       400\n",
            "   macro avg       0.89      0.89      0.88       400\n",
            "weighted avg       0.89      0.89      0.89       400\n",
            "\n"
          ]
        }
      ]
    },
    {
      "cell_type": "code",
      "source": [
        "# Define the parameter grid for hyperparameter tuning\n",
        "param_grid = {\n",
        "    'n_estimators': [50, 100, 200],\n",
        "    'max_depth': [None, 10, 20],\n",
        "    'min_samples_split': [2, 5, 10],\n",
        "    'min_samples_leaf': [1, 2, 4],\n",
        "}\n",
        "\n",
        "# Create a RandomForestClassifier object\n",
        "rf_classifier = RandomForestClassifier(random_state=42)\n",
        "\n",
        "# Create a GridSearchCV object\n",
        "grid_search = GridSearchCV(estimator=rf_classifier, param_grid=param_grid, cv=5, scoring='accuracy', n_jobs=-1)\n",
        "\n",
        "# Fit the GridSearchCV object to the training data\n",
        "grid_search.fit(X_train_scaled, y_train)\n",
        "\n",
        "# Get the best hyperparameters and best score\n",
        "best_params = grid_search.best_params_\n",
        "best_score = grid_search.best_score_\n",
        "\n",
        "print(f\"Best Hyperparameters: {best_params}\")"
      ],
      "metadata": {
        "colab": {
          "base_uri": "https://localhost:8080/"
        },
        "id": "T2pCAgeipTOv",
        "outputId": "6b750450-aa81-4c11-efeb-9d9aee254f29"
      },
      "execution_count": 55,
      "outputs": [
        {
          "output_type": "stream",
          "name": "stdout",
          "text": [
            "Best Hyperparameters: {'max_depth': None, 'min_samples_leaf': 1, 'min_samples_split': 5, 'n_estimators': 200}\n"
          ]
        }
      ]
    },
    {
      "cell_type": "code",
      "source": [
        "# Feature selection using Recursive Feature Elimination (RFE)\n",
        "rfe = RFE(estimator=LogisticRegression(max_iter=1000), n_features_to_select=5)  # Select top 5 features\n",
        "rfe.fit(X_train_scaled, y_train)\n",
        "\n",
        "# Get the selected features\n",
        "selected_features = X_train.columns[rfe.support_]\n",
        "print(\"Selected Features:\", selected_features)\n",
        "\n"
      ],
      "metadata": {
        "colab": {
          "base_uri": "https://localhost:8080/"
        },
        "id": "QADzg3wWuKYE",
        "outputId": "bb9bc4be-86b3-45b6-c3c0-a4d54e11b31b"
      },
      "execution_count": 56,
      "outputs": [
        {
          "output_type": "stream",
          "name": "stdout",
          "text": [
            "Selected Features: Index(['battery_power', 'has_4g', 'mobile_wt', 'n_cores', 'pc'], dtype='object')\n"
          ]
        }
      ]
    },
    {
      "cell_type": "code",
      "source": [
        "# Feature selection using Recursive Feature Elimination (RFE) with RandomForestRegressor\n",
        "rfe = RFE(estimator=RandomForestRegressor(n_estimators=100, random_state=42), n_features_to_select=5)\n",
        "rfe.fit(X_train_scaled, y_train)\n",
        "\n",
        "# Get the selected features\n",
        "selected_features = X_train.columns[rfe.support_]\n",
        "print(\"Selected Features:\", selected_features)"
      ],
      "metadata": {
        "colab": {
          "base_uri": "https://localhost:8080/"
        },
        "id": "QAhvqQyizGVA",
        "outputId": "f2c5feaa-5a5c-47ce-bdd2-fbf53e5de94f"
      },
      "execution_count": 57,
      "outputs": [
        {
          "output_type": "stream",
          "name": "stdout",
          "text": [
            "Selected Features: Index(['battery_power', 'has_4g', 'mobile_wt', 'n_cores', 'pc'], dtype='object')\n"
          ]
        }
      ]
    },
    {
      "cell_type": "code",
      "source": [
        "# Hyperparameter Optimization\n",
        "param_grid = {'C': [0.01, 0.1, 1, 10, 100]}\n",
        "grid_search = GridSearchCV(LogisticRegression(), param_grid, cv=5)\n",
        "grid_search.fit(X_train_scaled, y_train)\n",
        "print(\"\\nBest Hyperparameters:\", grid_search.best_params_)"
      ],
      "metadata": {
        "colab": {
          "base_uri": "https://localhost:8080/"
        },
        "id": "71Nyj2xqS_Mv",
        "outputId": "8bb88e45-48e4-481b-b818-da47b2611d72"
      },
      "execution_count": 58,
      "outputs": [
        {
          "output_type": "stream",
          "name": "stdout",
          "text": [
            "\n",
            "Best Hyperparameters: {'C': 100}\n"
          ]
        }
      ]
    },
    {
      "cell_type": "code",
      "source": [
        "\n",
        "\n",
        "# Assuming X_train, X_test, y_train, y_test are already defined\n",
        "\n",
        "# Select the best features\n",
        "best_features = ['battery_power', 'px_height', 'px_width', 'ram']\n",
        "X_train_best = X_train[best_features]\n",
        "X_test_best = X_test[best_features]\n",
        "\n",
        "# Create and train the Logistic Regression model with the best hyperparameter\n",
        "final_model = LogisticRegression(C=100, max_iter=1000)\n",
        "final_model.fit(X_train_best, y_train)\n",
        "\n",
        "# Make predictions on the test set\n",
        "y_pred_final = final_model.predict(X_test_best)\n",
        "\n",
        "# Evaluate the model\n",
        "print(\"\\nFinal Model Performance:\")\n",
        "print(classification_report(y_test, y_pred_final))"
      ],
      "metadata": {
        "colab": {
          "base_uri": "https://localhost:8080/"
        },
        "id": "NlO80VBLvDc-",
        "outputId": "b1a5d9e4-26f5-47fc-d008-2b463ac468c4"
      },
      "execution_count": 59,
      "outputs": [
        {
          "output_type": "stream",
          "name": "stdout",
          "text": [
            "\n",
            "Final Model Performance:\n",
            "              precision    recall  f1-score   support\n",
            "\n",
            "           0       0.96      0.95      0.95        92\n",
            "           1       1.00      0.98      0.99       105\n",
            "           2       0.96      1.00      0.98        91\n",
            "           3       0.97      0.96      0.97       112\n",
            "\n",
            "    accuracy                           0.97       400\n",
            "   macro avg       0.97      0.97      0.97       400\n",
            "weighted avg       0.97      0.97      0.97       400\n",
            "\n"
          ]
        }
      ]
    }
  ]
}